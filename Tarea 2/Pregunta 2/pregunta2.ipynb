{
  "nbformat": 4,
  "nbformat_minor": 0,
  "metadata": {
    "colab": {
      "name": "tarea2cripto.ipynb",
      "provenance": [],
      "collapsed_sections": []
    },
    "kernelspec": {
      "name": "python3",
      "display_name": "Python 3"
    },
    "language_info": {
      "name": "python"
    }
  },
  "cells": [
    {
      "cell_type": "code",
      "metadata": {
        "id": "KoaMKKNZLA8g"
      },
      "source": [
        "from random import randint\n"
      ],
      "execution_count": 1,
      "outputs": []
    },
    {
      "cell_type": "code",
      "metadata": {
        "id": "kziz4lJ4LJyx"
      },
      "source": [
        "def miller_rabin(n,k):\n",
        "  if n == 1:\n",
        "    return False\n",
        "  elif n == 2:\n",
        "    return True\n",
        "  elif n%2 == 0:\n",
        "    return False\n",
        "  r = 0\n",
        "  d = n-1\n",
        "  while d % 2 == 0:\n",
        "    r += 1\n",
        "    d = d//2\n",
        "  con = False\n",
        "  for _ in range(k):\n",
        "    con = False\n",
        "    a = randint(2,n-1)    \n",
        "    x = exp_mod(a,d,n)\n",
        "    if x== 1 or x== n-1:\n",
        "      continue\n",
        "    for _ in range(r-1):\n",
        "      x = exp_mod(x,2,n)\n",
        "      if x == n-1:\n",
        "        con = True\n",
        "        break\n",
        "    if not con:\n",
        "      return False    \n",
        "  return True"
      ],
      "execution_count": 2,
      "outputs": []
    },
    {
      "cell_type": "code",
      "metadata": {
        "id": "ZiIqjUAsOoZC"
      },
      "source": [
        "def generar_primo(l):\n",
        "  while True:\n",
        "    i = randint(10**(l-1),(10**l)-1)\n",
        "    if miller_rabin(i,100):\n",
        "      return i"
      ],
      "execution_count": 3,
      "outputs": []
    },
    {
      "cell_type": "code",
      "metadata": {
        "id": "Molnvy0RO2OT"
      },
      "source": [
        "def alg_ext_euclides(a,b):\n",
        "  s0, s1 = 1,0 \n",
        "  t0, t1 = 0,1\n",
        "  while b >0:\n",
        "    q = a//b\n",
        "    s1,s0 = s0 - q*s1,s1\n",
        "    t1,t0 = t0 - q*t1,t1\n",
        "    a,b = b, a%b\n",
        "  return a, s0, t0"
      ],
      "execution_count": 4,
      "outputs": []
    },
    {
      "cell_type": "code",
      "metadata": {
        "id": "hd5oGvOI9tGE"
      },
      "source": [
        "def exp_mod(a,b,n):\n",
        "  k = 1\n",
        "  if b == 0:\n",
        "    return k\n",
        "  if b%2 != 0:\n",
        "    k = a\n",
        "  A = a\n",
        "  b =  b//2\n",
        "  while b:\n",
        "    A = (A**2)%n\n",
        "    if b%2 != 0:\n",
        "      k = (k*A)%n\n",
        "    b = b//2\n",
        "  return k\n"
      ],
      "execution_count": 5,
      "outputs": []
    },
    {
      "cell_type": "code",
      "metadata": {
        "id": "7YhLgwWRPHnP"
      },
      "source": [
        "def inverso(a,n):\n",
        "  b,s,t = alg_ext_euclides(a,n)\n",
        "  return s%n"
      ],
      "execution_count": 6,
      "outputs": []
    },
    {
      "cell_type": "code",
      "metadata": {
        "id": "fTn8M3_TPMtQ"
      },
      "source": [
        "def generar_clave(l):\n",
        "  P = generar_primo(l)\n",
        "  Q = generar_primo(l)\n",
        "  N = P*Q\n",
        "  phiN = (P-1)*(Q-1)\n",
        "  d = 0\n",
        "  while True:\n",
        "    d = randint(1,phiN)\n",
        "    if alg_ext_euclides(phiN,d)[0] == 1%phiN:\n",
        "       break\n",
        "\n",
        "  e = inverso(d,phiN)\n",
        "  f = open(\"private_key.txt\",\"w\")\n",
        "  f.write(str(d)+\"\\n\")\n",
        "  f.write(str(N))\n",
        "  f.close()\n",
        "  f = open(\"public_key.txt\",\"w\")\n",
        "  f.write(str(e)+\"\\n\")\n",
        "  f.write(str(N))\n",
        "  f.close()"
      ],
      "execution_count": 7,
      "outputs": []
    },
    {
      "cell_type": "code",
      "metadata": {
        "id": "tZoijkY5PRao"
      },
      "source": [
        "def enc(m):\n",
        "  f = open ('public_key.txt','r')\n",
        "  claves = f.read().split(\"\\n\")\n",
        "  return exp_mod(m,int(claves[0]),int(claves[1]))\n",
        "def dec(m):\n",
        "  f = open ('private_key.txt','r')\n",
        "  claves = f.read().split(\"\\n\")\n",
        "  return exp_mod(m,int(claves[0]),int(claves[1]))"
      ],
      "execution_count": 9,
      "outputs": []
    }
  ]
}