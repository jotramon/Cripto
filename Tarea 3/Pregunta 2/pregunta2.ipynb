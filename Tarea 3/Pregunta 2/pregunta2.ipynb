{
  "nbformat": 4,
  "nbformat_minor": 0,
  "metadata": {
    "colab": {
      "name": "Tarea3Cripto.ipynb",
      "provenance": []
    },
    "kernelspec": {
      "name": "python3",
      "display_name": "Python 3"
    },
    "language_info": {
      "name": "python"
    }
  },
  "cells": [
    {
      "cell_type": "code",
      "metadata": {
        "id": "Y6uJKhAIkSjQ"
      },
      "source": [
        "import math\n",
        "from random import randint"
      ],
      "execution_count": null,
      "outputs": []
    },
    {
      "cell_type": "code",
      "metadata": {
        "id": "hvHaPI5XVpIX"
      },
      "source": [
        "def exp_mod(a,b,n):\n",
        "  k = 1\n",
        "  if b == 0:\n",
        "    return k\n",
        "  if b%2 != 0:\n",
        "    k = a\n",
        "  A = a\n",
        "  b =  b//2\n",
        "  while b:\n",
        "    A = (A**2)%n\n",
        "    if b%2 != 0:\n",
        "      k = (k*A)%n\n",
        "    b = b//2\n",
        "  return k"
      ],
      "execution_count": null,
      "outputs": []
    },
    {
      "cell_type": "code",
      "metadata": {
        "id": "fD5PcvCPjT4W"
      },
      "source": [
        "def F(x,y,z):\n",
        "  return (x & y) | (~x & z)\n",
        "\n",
        "def G(x,y,z):\n",
        "  return (z & x) | (~z & y)\n",
        "\n",
        "def H(x,y,z):\n",
        "  return x ^ y ^ z\n",
        "\n",
        "def I(x,y,z):\n",
        "  return y ^ (x | ~z)\n",
        "\n",
        "def left_rotate(x, amount):\n",
        "    x &= 0xFFFFFFFF\n",
        "    return (((x<<amount))| (x>>(32-amount))) & 0xFFFFFFFF\n",
        "\n",
        "def md5_to_hex(digest):\n",
        "    raw = digest.to_bytes(16, byteorder='little')\n",
        "    return '{:032x}'.format(int.from_bytes(raw, byteorder='big'))\n",
        "\n",
        "def custom_md5(m):\n",
        "  T = [ 0 for i in range(64)]\n",
        "  m = str.encode(m)\n",
        "  a0 = 0x67452301\n",
        "  b0 = 0xefcdab89\n",
        "  c0 = 0x98badcfe\n",
        "  d0 = 0x10325476\n",
        "\n",
        "  constantes = [a0,b0 ,c0 ,d0]\n",
        "  message = bytearray(m)\n",
        "  leninbits = (8 * len(message)) & 0xffffffffffffffff\n",
        "  message.append(0x80)\n",
        "  while len(message)% 64 != 56:\n",
        "    message.append(0)\n",
        "  message += leninbits.to_bytes(8, byteorder=\"little\")\n",
        "\n",
        "\n",
        "  for i in range(0, 64):\n",
        "    T[i] = int(abs(math.sin(i+1)) * 2**32) & 0xFFFFFFFF \n",
        "\n",
        "  a,b,c,d = constantes[:]\n",
        "  for p in range(0, len(message) ,64):\n",
        "    x = message[p:p+64]\n",
        "    words = []\n",
        "    for j in range(0,64,4):\n",
        "      words.append(x[j:j+4])\n",
        "    AA, BB, CC , DD = a,b,c,d\n",
        "    i = 0\n",
        "\n",
        "    #Round 1\n",
        "    s = [7, 12, 17, 22]\n",
        "    \n",
        "    for l in range(4):\n",
        "      a = (b + left_rotate(a + F(b,c,d) + T[i] + int.from_bytes(words[i%16], byteorder='little'),s[0])) & 0xFFFFFFFF\n",
        "      i += 1\n",
        "      d = (a + left_rotate(d + F(a,b,c) + T[i] + int.from_bytes(words[i%16], byteorder='little'),s[1])) & 0xFFFFFFFF\n",
        "      i += 1\n",
        "      c = (d + left_rotate(c + F(d,a,b) + T[i] + int.from_bytes(words[i%16], byteorder='little'),s[2])) & 0xFFFFFFFF\n",
        "      i += 1\n",
        "      b = (c + left_rotate(b + F(c,d,a) + T[i] + int.from_bytes(words[i%16], byteorder='little'),s[3])) & 0xFFFFFFFF\n",
        "      i += 1\n",
        "\n",
        "\n",
        "    #Round 2\n",
        "    s = [5, 9, 14, 20]\n",
        "    f = lambda i: (5*i + 1)%16\n",
        "    for l in range(4):\n",
        "      a = (b + left_rotate(a + G(b,c,d) + T[i] + int.from_bytes(words[f(i%16)], byteorder='little'),s[0])) & 0xFFFFFFFF\n",
        "      i += 1\n",
        "      d = (a + left_rotate(d + G(a,b,c) + T[i] + int.from_bytes(words[f(i%16)], byteorder='little'),s[1])) & 0xFFFFFFFF\n",
        "      i += 1\n",
        "      c = (d + left_rotate(c + G(d,a,b) + T[i] + int.from_bytes(words[f(i%16)], byteorder='little'),s[2])) & 0xFFFFFFFF     \n",
        "      i += 1\n",
        "      b = (c + left_rotate(b + G(c,d,a) + T[i] + int.from_bytes(words[f(i%16)], byteorder='little'),s[3])) & 0xFFFFFFFF      \n",
        "      i += 1\n",
        "\n",
        "\n",
        "    #Round 3\n",
        "    s = [4, 11, 16, 23]\n",
        "    f = lambda i: (3*i + 5)%16\n",
        "    for l in range(4):\n",
        "      a = (b + left_rotate(a + H(b,c,d) + T[i] + int.from_bytes(words[f(i%16)], byteorder='little'),s[0])) & 0xFFFFFFFF\n",
        "      i += 1\n",
        "      d = (a + left_rotate(d + H(a,b,c) + T[i] + int.from_bytes(words[f(i%16)], byteorder='little'),s[1])) & 0xFFFFFFFF\n",
        "      i += 1\n",
        "      c = (d + left_rotate(c + H(d,a,b) + T[i] + int.from_bytes(words[f(i%16)], byteorder='little'),s[2])) & 0xFFFFFFFF\n",
        "      i += 1\n",
        "      b = (c + left_rotate(b + H(c,d,a) + T[i] + int.from_bytes(words[f(i%16)], byteorder='little'),s[3])) & 0xFFFFFFFF\n",
        "      i += 1\n",
        "\n",
        "    #Round 4\n",
        "    s = [6, 10, 15, 21]\n",
        "    f = lambda i: (7*i)%16\n",
        "    for l in range(4):\n",
        "      a = (b + left_rotate(a + I(b,c,d) + T[i] + int.from_bytes(words[f(i%16)], byteorder='little'),s[0])) & 0xFFFFFFFF\n",
        "      i += 1\n",
        "      d = (a + left_rotate(d + I(a,b,c) + T[i] + int.from_bytes(words[f(i%16)], byteorder='little'),s[1])) & 0xFFFFFFFF\n",
        "      i += 1\n",
        "      c = (d + left_rotate(c + I(d,a,b) + T[i] + int.from_bytes(words[f(i%16)], byteorder='little'),s[2])) & 0xFFFFFFFF\n",
        "      i += 1\n",
        "      b = (c + left_rotate(b + I(c,d,a) + T[i] + int.from_bytes(words[f(i%16)], byteorder='little'),s[3])) & 0xFFFFFFFF\n",
        "      i += 1\n",
        "    a += AA\n",
        "    a &= 0xFFFFFFFF\n",
        "    b += BB\n",
        "    b &= 0xFFFFFFFF\n",
        "    c += CC\n",
        "    c &= 0xFFFFFFFF\n",
        "    d += DD\n",
        "    d &= 0xFFFFFFFF\n",
        "  hash_pieces = [a,b,c,d]\n",
        "  return md5_to_hex(sum(x<<(32*i) for i, x in enumerate(hash_pieces)))"
      ],
      "execution_count": null,
      "outputs": []
    },
    {
      "cell_type": "code",
      "metadata": {
        "id": "M07YpsRMkU91"
      },
      "source": [
        "def generar_clave_ElGamal():\n",
        "\n",
        "  archivo = open(\"grupo.txt\",\"r\")\n",
        "  lineas = archivo.readlines()\n",
        "  archivo.close()\n",
        "  p = int(\"\".join(lineas[0].rstrip().split(\" \")),16)\n",
        "  g = int(\"\".join(lineas[1].rstrip().split(\" \")),16)\n",
        "  q = int(\"\".join(lineas[2].rstrip().split(\" \")),16)\n",
        "  x = randint(1, q-1)\n",
        "  y = exp_mod(g,x,p)\n",
        "  \n",
        "  f = open(\"private_key.txt\",\"w\")\n",
        "  f.write(str(x))\n",
        "  f.close()\n",
        "  f = open(\"public_key.txt\",\"w\")\n",
        "  f.write(str(y))\n",
        "  f.close()\n",
        "\n",
        "  return"
      ],
      "execution_count": 101,
      "outputs": []
    },
    {
      "cell_type": "code",
      "metadata": {
        "id": "zDjXAsewkosO"
      },
      "source": [
        "def firma_Schorr(m):\n",
        "  archivo = open(\"grupo.txt\",\"r\")\n",
        "  lineas = archivo.readlines()\n",
        "  archivo.close()\n",
        "  p = int(\"\".join(lineas[0].rstrip().split(\" \")),16)\n",
        "  g = int(\"\".join(lineas[1].rstrip().split(\" \")),16)\n",
        "  q = int(\"\".join(lineas[2].rstrip().split(\" \")),16)\n",
        "  k = randint(1, q-1)\n",
        "\n",
        "  f = open('private_key.txt','r')\n",
        "  clave = f.readlines()\n",
        "  x = int(clave[0])\n",
        "  r = exp_mod(g,k,p)\n",
        "  e = int(custom_md5(str(r)+m),16)\n",
        "  s = (k - x*e)\n",
        "  return (e, s)\n"
      ],
      "execution_count": null,
      "outputs": []
    },
    {
      "cell_type": "code",
      "metadata": {
        "id": "AScYLLHxo2wx"
      },
      "source": [
        "def alg_ext_euclides(a,b):\n",
        "  s0, s1 = 1,0 \n",
        "  t0, t1 = 0,1\n",
        "  while b >0:\n",
        "    q = a//b\n",
        "    s1,s0 = s0 - q*s1,s1\n",
        "    t1,t0 = t0 - q*t1,t1\n",
        "    a,b = b, a%b\n",
        "  return a, s0, t0"
      ],
      "execution_count": null,
      "outputs": []
    },
    {
      "cell_type": "code",
      "metadata": {
        "id": "F3BCSOf3o1O9"
      },
      "source": [
        "def inverso(a,n):\n",
        "  b,s,t = alg_ext_euclides(a,n)\n",
        "  return s%n"
      ],
      "execution_count": null,
      "outputs": []
    },
    {
      "cell_type": "code",
      "metadata": {
        "id": "gV0wPgazktiI"
      },
      "source": [
        "def verificar_firma_Schorr(m,firma):\n",
        "  archivo = open(\"grupo.txt\",\"r\")\n",
        "  lineas = archivo.readlines()\n",
        "  archivo.close()\n",
        "  p = int(\"\".join(lineas[0].rstrip().split(\" \")),16)\n",
        "  g = int(\"\".join(lineas[1].rstrip().split(\" \")),16)\n",
        "  q = int(\"\".join(lineas[2].rstrip().split(\" \")),16)\n",
        "  f = open('public_key.txt','r')\n",
        "  clave = f.readlines()\n",
        "  y = int(clave[0])\n",
        "  s = int(firma[1])\n",
        "  e = int(firma[0])\n",
        "  if s < 0:\n",
        "    g = inverso(g,p)\n",
        "    s = s*-1\n",
        "  r = (exp_mod(g,s,p)*exp_mod(y,e,p))%p\n",
        "  if str(int(custom_md5(str(r)+m),16)) == str(firma[0]):\n",
        "    return True\n",
        "  return False"
      ],
      "execution_count": null,
      "outputs": []
    }
  ]
}